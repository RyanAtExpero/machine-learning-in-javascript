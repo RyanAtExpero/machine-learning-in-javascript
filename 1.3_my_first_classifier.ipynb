{
 "cells": [
  {
   "cell_type": "markdown",
   "metadata": {
    "collapsed": true
   },
   "source": [
    "# My First Classifier\n",
    "\n",
    "Multi Class Classification is the task of assigning an input vector to a particular class based on some measure of similarity to other members of that class.\n",
    "\n",
    "One of the simplest classifiers is a Minimum Distance Classifier and it is still an effective one. Given a two or more classes represented by a single class vector, we assign an input vector to itsclosest class.\n",
    "\n",
    "Geometrically, if we think about a scatterplot of two of our features from the Wine dataset {Alchohol, ODxxx} we get a scatter plot:"
   ]
  },
  {
   "cell_type": "code",
   "execution_count": null,
   "metadata": {
    "collapsed": false
   },
   "outputs": [],
   "source": [
    "var {loadUnlabelledWine} = require('./utils')\n",
    "var Plot = require('plotly-notebook-js');\n",
    "\n",
    "var {features, dataset} = loadUnlabelledWine();\n",
    "\n",
    "var ALCOHOL = 0;\n",
    "var ODxxx = 11;\n",
    "\n",
    "var x = dataset.map(d => d[ALCOHOL]).map(f => parseFloat(f));\n",
    "var y = dataset.map(d => d[ODxxx]).map(f => parseFloat(f));\n",
    "var trace = { x, y, mode: 'markers', marker: { size: 8, }, type: 'scatter' };\n",
    "var layout = { xaxis: { title: features[ALCOHOL] }, yaxis: { title: features[ODxxx] }, width: 700, height: 700 };\n",
    "\n",
    "$$html$$ = Plot.createPlot([trace], layout).render()"
   ]
  },
  {
   "cell_type": "markdown",
   "metadata": {},
   "source": [
    "### Manually Decide on Class Centroids\n",
    "\n",
    "In order to classify we want to assign all of our points in the scatter plot to one of say three classes which I am going to pick manually. We are trying to pick the centroid or central point of the class.\n",
    "\n",
    "Pick you own classes, I am picking:\n",
    "\n",
    "\n",
    "\n"
   ]
  },
  {
   "cell_type": "code",
   "execution_count": null,
   "metadata": {
    "collapsed": false
   },
   "outputs": [],
   "source": [
    "var classes = [\n",
    "    [12, 3.1],\n",
    "    [13.75, 3.1],\n",
    "    [13, 1.75]\n",
    "];\n",
    "\n",
    "var classTraces = classes.map(\n",
    "    (c, idx) => ({ x: [c[0]], y: [c[1]], mode: 'markers', marker: { size: 14 }, type: 'scatter' }));\n",
    "\n",
    "$$html$$ = Plot.createPlot([trace, ...classTraces], layout).render()"
   ]
  },
  {
   "cell_type": "markdown",
   "metadata": {
    "collapsed": true
   },
   "source": [
    "## Build a classifier\n",
    "\n",
    "Let's build a simple \"minimum distance\" classifer using the euclidean distance. In this classifier, points are assigned to a class based on their distance from a single central point representing the class.\n",
    "\n",
    "![minimum distance classification](images/minimum_distance.png)\n",
    "\n",
    "\n",
    "### Goals\n",
    "\n",
    "1. Load a the Wine dataset - DONE\n",
    "1. Select Clase Centers - DONE\n",
    "1. Select / extract 2D feature vectors from it. I'm using {Alcohol, ODxxx} attributes, but you might like a different 2 better [dataset summary is here](./0.3_hello_datasets.ipynb)\n",
    "1. Build a classifier function `L = classify(classes, I)` where I (input) is a Nx2 array of arrays, L (labels) is a length N array and C (classes) is a 3x2 array of arrays\n",
    "    1. For each input vector, I\n",
    "        1. Compute the euclidean distance between I and each class vector\n",
    "        1. Select the class with the minimum distance\n",
    "        1. Store the label (e.g. an index 1, 2, 3) of the selected class\n",
    "    1. Return the the list of labels L\n",
    "1. Plot the I scatter plot and color the points depending in label."
   ]
  },
  {
   "cell_type": "code",
   "execution_count": null,
   "metadata": {
    "collapsed": false
   },
   "outputs": [],
   "source": [
    "// Compute Distance, find minimun and assign label"
   ]
  },
  {
   "cell_type": "code",
   "execution_count": null,
   "metadata": {
    "collapsed": false
   },
   "outputs": [],
   "source": [
    "// Plot the output"
   ]
  },
  {
   "cell_type": "markdown",
   "metadata": {},
   "source": [
    "### Plot the decision space\n",
    "\n",
    "Repeat this prcess but instead of classifying the input data, instead create a coordinates matrix over the valid range of your feature values and create a labels matrix.\n",
    "\n",
    "Hint: Check back to how we generated the distance function plots [distances_similarity_and_cost](./1.1_distances_similarity_and_cost.ipynb)\n",
    "\n",
    "Plot that using a plotly heatmap!\n",
    "\n",
    "(Note: to plot that you'll need to assign numerica values in your labels array rather than characters. e.g. [A,B,C] = [1,2,3] "
   ]
  },
  {
   "cell_type": "code",
   "execution_count": null,
   "metadata": {
    "collapsed": true
   },
   "outputs": [],
   "source": []
  },
  {
   "cell_type": "markdown",
   "metadata": {},
   "source": [
    "#### Stretch Stretch Goal\n",
    "If you are feeling really lucky, plot the feature vectors as a scatter plot on top of the heatmap."
   ]
  },
  {
   "cell_type": "code",
   "execution_count": null,
   "metadata": {
    "collapsed": true
   },
   "outputs": [],
   "source": []
  },
  {
   "cell_type": "markdown",
   "metadata": {},
   "source": [
    "# Decision Space Plots in Scikit Learn"
   ]
  },
  {
   "cell_type": "markdown",
   "metadata": {},
   "source": [
    "![decision space plots](images/scikit-learn_decision-spaces.png)"
   ]
  },
  {
   "cell_type": "code",
   "execution_count": null,
   "metadata": {
    "collapsed": true
   },
   "outputs": [],
   "source": []
  }
 ],
 "metadata": {
  "anaconda-cloud": {},
  "kernelspec": {
   "display_name": "jp-Babel (Node.js)",
   "language": "babel",
   "name": "babel"
  },
  "language_info": {
   "file_extension": ".js",
   "mimetype": "application/javascript",
   "name": "javascript",
   "version": "8.5.0"
  }
 },
 "nbformat": 4,
 "nbformat_minor": 2
}
