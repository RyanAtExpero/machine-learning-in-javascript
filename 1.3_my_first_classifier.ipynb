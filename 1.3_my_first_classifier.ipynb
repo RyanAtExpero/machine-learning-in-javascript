{
 "cells": [
  {
   "cell_type": "markdown",
   "metadata": {
    "collapsed": true
   },
   "source": [
    "# My First Classifier\n",
    "\n",
    "Multi Class Classification is the task of assigning an input vector to a particular class based on some measure of similarity to other members of that class.\n",
    "\n",
    "One of the simplest classifiers is a Minimum Distance Classifier and it is still an effective one. Given a two or more classes represented by a single class vector, we assign an input vector to itsclosest class.\n",
    "\n",
    "Geometrically, if we think about a scatterplot of two of our features from the Wine dataset {Alchohol, ODxxx} we get a scatter plot:"
   ]
  },
  {
   "cell_type": "code",
   "execution_count": 6,
   "metadata": {
    "collapsed": false
   },
   "outputs": [
    {
     "data": {
      "text/html": [
       "<div class='plotly-plot'><div id='notebook-plot-1506717337206'></div><script>function plot(){Plotly.plot('notebook-plot-1506717337206',[{\"x\":[14.23,13.2,13.16,14.37,13.24,14.2,14.39,14.06,14.83,13.86,14.1,14.12,13.75,14.75,14.38,13.63,14.3,13.83,14.19,13.64,14.06,12.93,13.71,12.85,13.5,13.05,13.39,13.3,13.87,14.02,13.73,13.58,13.68,13.76,13.51,13.48,13.28,13.05,13.07,14.22,13.56,13.41,13.88,13.24,13.05,14.21,14.38,13.9,14.1,13.94,13.05,13.83,13.82,13.77,13.74,13.56,14.22,13.29,13.72,12.37,12.33,12.64,13.67,12.37,12.17,12.37,13.11,12.37,13.34,12.21,12.29,13.86,13.49,12.99,11.96,11.66,13.03,11.84,12.33,12.7,12,12.72,12.08,13.05,11.84,12.67,12.16,11.65,11.64,12.08,12.08,12,12.69,12.29,11.62,12.47,11.81,12.29,12.37,12.29,12.08,12.6,12.34,11.82,12.51,12.42,12.25,12.72,12.22,11.61,11.46,12.52,11.76,11.41,12.08,11.03,11.82,12.42,12.77,12,11.45,11.56,12.42,13.05,11.87,12.07,12.43,11.79,12.37,12.04,12.86,12.88,12.81,12.7,12.51,12.6,12.25,12.53,13.49,12.84,12.93,13.36,13.52,13.62,12.25,13.16,13.88,12.87,13.32,13.08,13.5,12.79,13.11,13.23,12.58,13.17,13.84,12.45,14.34,13.48,12.36,13.69,12.85,12.96,13.78,13.73,13.45,12.82,13.58,13.4,12.2,12.77,14.16,13.71,13.4,13.27,13.17,14.13],\"y\":[3.92,3.4,3.17,3.45,2.93,2.85,3.58,3.58,2.85,3.55,3.17,2.82,2.9,2.73,3,2.88,2.65,2.57,2.82,3.36,3.71,3.52,4,3.63,3.82,3.2,3.22,2.77,3.4,3.59,2.71,2.88,2.87,3,2.87,3.47,2.78,2.51,2.69,3.53,3.38,3,3.56,3,3.35,3.33,3.44,3.33,2.75,3.1,2.91,3.37,3.26,2.93,3.2,3.03,3.31,2.84,2.87,1.82,1.67,1.59,2.46,2.87,2.23,2.3,3.18,3.48,1.93,3.07,1.82,3.16,2.78,3.5,3.13,2.14,2.48,2.52,2.31,3.13,3.12,3.14,2.72,2.01,3.08,3.16,2.26,3.21,2.75,3.21,2.27,2.65,2.06,3.3,2.96,2.63,2.26,2.74,2.77,2.83,2.96,2.77,3.38,2.44,3.57,3.3,3.17,2.42,3.02,3.26,2.81,2.78,2.5,2.31,3.19,2.87,3.33,2.96,2.12,3.05,3.39,3.69,3.12,3.1,3.64,3.28,2.84,2.44,2.78,2.57,1.29,1.42,1.36,1.29,1.51,1.58,1.27,1.69,1.82,2.15,2.31,2.47,2.06,2.05,2,1.68,1.33,1.86,1.62,1.33,1.3,1.47,1.33,1.51,1.55,1.48,1.64,1.73,1.96,1.78,1.58,1.82,2.11,1.75,1.68,1.75,1.56,1.75,1.8,1.92,1.83,1.63,1.71,1.74,1.56,1.56,1.62,1.6],\"mode\":\"markers\",\"marker\":{\"size\":8},\"type\":\"scatter\"}],{\"xaxis\":{\"title\":\"Alcohol\"},\"yaxis\":{\"title\":\"OD280/OD315 of diluted wines\"},\"width\":700,\"height\":700});}if(window.Plotly){plot();}else if(!window.require){var head = document.head || document.getElementsByTagName('head')[0];var s = document.createElement('script');s.src = 'https://cdn.plot.ly/plotly-latest.min.js';s.type = 'text/javascript';s.async = false;s.onreadystatechange = s.onload = plot;head.appendChild(s);}else{require(['/notebooks/node_modules/plotly-notebook-js/build/plotly.min.js'], function(Plotly){window.Plotly = Plotly;plot();});}</script></div>"
      ]
     },
     "execution_count": 6,
     "metadata": {},
     "output_type": "execute_result"
    }
   ],
   "source": [
    "var {loadUnlabelledWine} = require('./utils')\n",
    "var Plot = require('plotly-notebook-js');\n",
    "\n",
    "var {features, dataset} = loadUnlabelledWine();\n",
    "\n",
    "var ALCOHOL = 0;\n",
    "var ODxxx = 11;\n",
    "\n",
    "var x = dataset.map(d => d[ALCOHOL]).map(f => parseFloat(f));\n",
    "var y = dataset.map(d => d[ODxxx]).map(f => parseFloat(f));\n",
    "var trace = { x, y, mode: 'markers', marker: { size: 8, }, type: 'scatter' };\n",
    "var layout = { xaxis: { title: features[ALCOHOL] }, yaxis: { title: features[ODxxx] }, width: 700, height: 700 };\n",
    "\n",
    "$$html$$ = Plot.createPlot([trace], layout).render()"
   ]
  },
  {
   "cell_type": "markdown",
   "metadata": {},
   "source": [
    "### Manually Decide on Class Centroids\n",
    "\n",
    "In order to classify we want to assign all of our points in the scatter plot to one of say three classes which I am going to pick manually. We are trying to pick the centroid or central point of the class.\n",
    "\n",
    "Pick you own classes, I am picking:\n",
    "\n",
    "\n",
    "\n"
   ]
  },
  {
   "cell_type": "code",
   "execution_count": 15,
   "metadata": {
    "collapsed": false
   },
   "outputs": [
    {
     "data": {
      "text/html": [
       "<div class='plotly-plot'><div id='notebook-plot-1506717754142'></div><script>function plot(){Plotly.plot('notebook-plot-1506717754142',[{\"x\":[14.23,13.2,13.16,14.37,13.24,14.2,14.39,14.06,14.83,13.86,14.1,14.12,13.75,14.75,14.38,13.63,14.3,13.83,14.19,13.64,14.06,12.93,13.71,12.85,13.5,13.05,13.39,13.3,13.87,14.02,13.73,13.58,13.68,13.76,13.51,13.48,13.28,13.05,13.07,14.22,13.56,13.41,13.88,13.24,13.05,14.21,14.38,13.9,14.1,13.94,13.05,13.83,13.82,13.77,13.74,13.56,14.22,13.29,13.72,12.37,12.33,12.64,13.67,12.37,12.17,12.37,13.11,12.37,13.34,12.21,12.29,13.86,13.49,12.99,11.96,11.66,13.03,11.84,12.33,12.7,12,12.72,12.08,13.05,11.84,12.67,12.16,11.65,11.64,12.08,12.08,12,12.69,12.29,11.62,12.47,11.81,12.29,12.37,12.29,12.08,12.6,12.34,11.82,12.51,12.42,12.25,12.72,12.22,11.61,11.46,12.52,11.76,11.41,12.08,11.03,11.82,12.42,12.77,12,11.45,11.56,12.42,13.05,11.87,12.07,12.43,11.79,12.37,12.04,12.86,12.88,12.81,12.7,12.51,12.6,12.25,12.53,13.49,12.84,12.93,13.36,13.52,13.62,12.25,13.16,13.88,12.87,13.32,13.08,13.5,12.79,13.11,13.23,12.58,13.17,13.84,12.45,14.34,13.48,12.36,13.69,12.85,12.96,13.78,13.73,13.45,12.82,13.58,13.4,12.2,12.77,14.16,13.71,13.4,13.27,13.17,14.13],\"y\":[3.92,3.4,3.17,3.45,2.93,2.85,3.58,3.58,2.85,3.55,3.17,2.82,2.9,2.73,3,2.88,2.65,2.57,2.82,3.36,3.71,3.52,4,3.63,3.82,3.2,3.22,2.77,3.4,3.59,2.71,2.88,2.87,3,2.87,3.47,2.78,2.51,2.69,3.53,3.38,3,3.56,3,3.35,3.33,3.44,3.33,2.75,3.1,2.91,3.37,3.26,2.93,3.2,3.03,3.31,2.84,2.87,1.82,1.67,1.59,2.46,2.87,2.23,2.3,3.18,3.48,1.93,3.07,1.82,3.16,2.78,3.5,3.13,2.14,2.48,2.52,2.31,3.13,3.12,3.14,2.72,2.01,3.08,3.16,2.26,3.21,2.75,3.21,2.27,2.65,2.06,3.3,2.96,2.63,2.26,2.74,2.77,2.83,2.96,2.77,3.38,2.44,3.57,3.3,3.17,2.42,3.02,3.26,2.81,2.78,2.5,2.31,3.19,2.87,3.33,2.96,2.12,3.05,3.39,3.69,3.12,3.1,3.64,3.28,2.84,2.44,2.78,2.57,1.29,1.42,1.36,1.29,1.51,1.58,1.27,1.69,1.82,2.15,2.31,2.47,2.06,2.05,2,1.68,1.33,1.86,1.62,1.33,1.3,1.47,1.33,1.51,1.55,1.48,1.64,1.73,1.96,1.78,1.58,1.82,2.11,1.75,1.68,1.75,1.56,1.75,1.8,1.92,1.83,1.63,1.71,1.74,1.56,1.56,1.62,1.6],\"mode\":\"markers\",\"marker\":{\"size\":8},\"type\":\"scatter\"},{\"x\":[12],\"y\":[3.1],\"mode\":\"markers\",\"marker\":{\"size\":14},\"type\":\"scatter\"},{\"x\":[13.75],\"y\":[3.1],\"mode\":\"markers\",\"marker\":{\"size\":14},\"type\":\"scatter\"},{\"x\":[13],\"y\":[1.75],\"mode\":\"markers\",\"marker\":{\"size\":14},\"type\":\"scatter\"}],{\"xaxis\":{\"title\":\"Alcohol\"},\"yaxis\":{\"title\":\"OD280/OD315 of diluted wines\"},\"width\":700,\"height\":700});}if(window.Plotly){plot();}else if(!window.require){var head = document.head || document.getElementsByTagName('head')[0];var s = document.createElement('script');s.src = 'https://cdn.plot.ly/plotly-latest.min.js';s.type = 'text/javascript';s.async = false;s.onreadystatechange = s.onload = plot;head.appendChild(s);}else{require(['/notebooks/node_modules/plotly-notebook-js/build/plotly.min.js'], function(Plotly){window.Plotly = Plotly;plot();});}</script></div>"
      ]
     },
     "execution_count": 15,
     "metadata": {},
     "output_type": "execute_result"
    }
   ],
   "source": [
    "var classes = [\n",
    "    [12, 3.1],\n",
    "    [13.75, 3.1],\n",
    "    [13, 1.75]\n",
    "];\n",
    "\n",
    "var classTraces = classes.map(\n",
    "    (c, idx) => ({ x: [c[0]], y: [c[1]], mode: 'markers', marker: { size: 14 }, type: 'scatter' }));\n",
    "\n",
    "$$html$$ = Plot.createPlot([trace, ...classTraces], layout).render()"
   ]
  },
  {
   "cell_type": "markdown",
   "metadata": {
    "collapsed": true
   },
   "source": [
    "## Build a classifier\n",
    "\n",
    "### Goals\n",
    "\n",
    "1. Load a the Wine dataset - DONE\n",
    "1. Select Clase Centers - DONE\n",
    "1. Select / extract 2D feature vectors from it. I'm using {Alcohol, ODxxx} attributes, but you might like a different 2 better [dataset summary is here](./0.3_hello_datasets.ipynb)\n",
    "1. Build a classifier function `L = classify(classes, I)` where I (input) is a Nx2 array of arrays, L (labels) is a length N array and C (classes) is a 3x2 array of arrays\n",
    "    1. For each input vector, I\n",
    "        1. Compute the euclidean distance between I and each class vector\n",
    "        1. Select the class with the minimum distance\n",
    "        1. Store the label (e.g. an index 1, 2, 3) of the selected class\n",
    "    1. Return the the list of labels L\n",
    "1. Plot the I scatter plot and color the points depending in label."
   ]
  },
  {
   "cell_type": "code",
   "execution_count": null,
   "metadata": {
    "collapsed": true
   },
   "outputs": [],
   "source": [
    "// Compute Distance, find minimun and assign label"
   ]
  },
  {
   "cell_type": "code",
   "execution_count": null,
   "metadata": {
    "collapsed": true
   },
   "outputs": [],
   "source": [
    "// Plot the output"
   ]
  },
  {
   "cell_type": "markdown",
   "metadata": {},
   "source": [
    "### Stretch Goal\n",
    "\n",
    "Repeat this prcess but instead of classifying the input data, instead create a coordinates matrix over the valid range of your feature values and create a labels matrix.\n",
    "\n",
    "Hint: Check back to how we generated the distance function plots [distances_similarity_and_cost](./1.1_distances_similarity_and_cost.ipynb)\n",
    "\n",
    "Plot that using a plotly heatmap!\n",
    "\n",
    "(Note: to plot that you'll need to assign numerica values in your labels array rather than characters. e.g. [A,B,C] = [1,2,3] "
   ]
  },
  {
   "cell_type": "code",
   "execution_count": null,
   "metadata": {
    "collapsed": true
   },
   "outputs": [],
   "source": []
  },
  {
   "cell_type": "markdown",
   "metadata": {},
   "source": [
    "#### Stretch Stretch Goal\n",
    "If you are feeling really lucky, plot the feature vectors as a scatter plot on top of the heatmap."
   ]
  },
  {
   "cell_type": "code",
   "execution_count": null,
   "metadata": {
    "collapsed": true
   },
   "outputs": [],
   "source": []
  }
 ],
 "metadata": {
  "anaconda-cloud": {},
  "kernelspec": {
   "display_name": "jp-Babel (Node.js)",
   "language": "babel",
   "name": "babel"
  },
  "language_info": {
   "file_extension": ".js",
   "mimetype": "application/javascript",
   "name": "javascript",
   "version": "8.5.0"
  }
 },
 "nbformat": 4,
 "nbformat_minor": 2
}
