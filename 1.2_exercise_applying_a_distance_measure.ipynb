{
 "cells": [
  {
   "cell_type": "markdown",
   "metadata": {
    "collapsed": true
   },
   "source": [
    "# Exercise - Applying a distance measure\n",
    "\n",
    "Se far we have reviewed some fundamantals and on the way seen versious code exmaples. We have some example datasets available, we can build and manipulate vectors using native JS and we know how to plot and do some basic but sparkily visualisation with plotly.js.\n",
    "\n",
    "It's time to bring it together to do something simple but concreete\n",
    "\n",
    "### Goals\n",
    "\n",
    "1. Load a the Wine dataset\n",
    "1. Select / extract 2D feature vectors from it using the {Alcohol, Flavinoids} attributes [dataset summary is here](./0.3_hello_datasets.ipynb)\n",
    "1. For each feature vector\n",
    "\n",
    "    1. Compute the euclidean distance between it and the fixed points given below A, B and C\n",
    "    1. Find the fixed point with the minimum distance\n",
    "    1. Store the name (the \"label\") of the closest fixed point either in the feature vector or a separate matching array\n",
    "\n",
    "1. Plot the feature vectors on a scatter plot and color the points depending in label.\n",
    " \n",
    " \n",
    "Remember to refer back to previous notebooks to find useful code patterns!\n",
    "\n",
    "\n",
    "#### Maths\n",
    "\n",
    "Formally, given a N x 2D feature vectors, we are going to assign each to its closest fixed point A, B or C. The output is a 1D vector of length N. Or we can just append to our feature vecrtors if we like.\n",
    "  "
   ]
  },
  {
   "cell_type": "code",
   "execution_count": 3,
   "metadata": {
    "collapsed": true
   },
   "outputs": [],
   "source": [
    "// fixed points\n",
    "var A = [14, 3];\n",
    "var B = [12.1, 2.2];\n",
    "var C = [0.7, 13];"
   ]
  },
  {
   "cell_type": "code",
   "execution_count": 4,
   "metadata": {
    "collapsed": true
   },
   "outputs": [],
   "source": [
    "// Load the dataset"
   ]
  },
  {
   "cell_type": "code",
   "execution_count": 5,
   "metadata": {
    "collapsed": true
   },
   "outputs": [],
   "source": [
    "// Extract Feature Vectors"
   ]
  },
  {
   "cell_type": "code",
   "execution_count": 6,
   "metadata": {
    "collapsed": true
   },
   "outputs": [],
   "source": [
    "// Compute Distance, find minimun and assign label"
   ]
  },
  {
   "cell_type": "code",
   "execution_count": 7,
   "metadata": {
    "collapsed": true
   },
   "outputs": [],
   "source": [
    "// Plot the output"
   ]
  },
  {
   "cell_type": "markdown",
   "metadata": {},
   "source": [
    "### Stretch Goal\n",
    "\n",
    "Repeat this prcess (maybe extract a function from the code above) but instead of computing the distance between the label points (A, B, C, D) instead create a coordinates matrix (like we did in the [distances notebook]) and create a labels matrix.\n",
    "\n",
    "Plot that using a plotly heatmap!\n",
    "\n",
    "(Note: to plot that you'll need to assign numerica values in your labels array rather than characters. e.g. [A,B,C] = [1,2,3] \n",
    "\n",
    "\n",
    "#### Stretch Stretch Goal\n",
    "If you are feeling really lucky, plot the feature vectors as a scatter plot on top of the heatmap."
   ]
  },
  {
   "cell_type": "code",
   "execution_count": null,
   "metadata": {
    "collapsed": true
   },
   "outputs": [],
   "source": []
  }
 ],
 "metadata": {
  "anaconda-cloud": {},
  "kernelspec": {
   "display_name": "jp-Babel (Node.js)",
   "language": "babel",
   "name": "babel"
  },
  "language_info": {
   "file_extension": ".js",
   "mimetype": "application/javascript",
   "name": "javascript",
   "version": "8.5.0"
  }
 },
 "nbformat": 4,
 "nbformat_minor": 2
}
