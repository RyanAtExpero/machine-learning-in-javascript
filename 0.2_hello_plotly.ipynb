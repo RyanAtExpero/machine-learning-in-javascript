{
 "cells": [
  {
   "cell_type": "markdown",
   "metadata": {},
   "source": [
    "## Plotting\n",
    "\n",
    "Being able to plot data is essential. The graphics output option above means we can use any plotting capability that will give us `html` or `svg` so if you have a favourite charing library give it a go.\n",
    "\n",
    "[plotly.js](https://plot.ly/javascript/) is a fully featued charting library and an officially supported wrapper ijavascript alreeady exists. [js-notebook-plotly](https://github.com/plotly/plotly-notebook-js) its in beta but we're using it here.\n",
    "\n",
    "Here are some simple plots and warm up exercises."
   ]
  },
  {
   "cell_type": "code",
   "execution_count": null,
   "metadata": {
    "collapsed": false
   },
   "outputs": [],
   "source": [
    "var fs = require(\"fs\");\n",
    "var Plot = require('plotly-notebook-js');\n",
    "var parse = require('csv-parse/lib/sync');"
   ]
  },
  {
   "cell_type": "markdown",
   "metadata": {},
   "source": [
    "#### Example - muliple 1D curves / timeseries / vectors\n",
    "\n",
    "\n"
   ]
  },
  {
   "cell_type": "code",
   "execution_count": null,
   "metadata": {
    "collapsed": false
   },
   "outputs": [],
   "source": [
    "import range from 'lodash/range';\n",
    "\n",
    "var x = range(0,100).map(n => 4*Math.PI*n/100);\n",
    "\n",
    "var trace1 = { \n",
    "    x,\n",
    "    y: x.map(x => Math.cos(x)),\n",
    "    type: 'bar',\n",
    "    name: 'cosine'\n",
    "};\n",
    "\n",
    "var trace2 = { \n",
    "    x,\n",
    "    y: x.map(x => Math.sin(x)),\n",
    "    type: 'lines',\n",
    "    name: 'sine'\n",
    "};\n",
    "\n",
    "var myPlot = Plot.createPlot([trace1, trace2], { title: 'plot multiple curves' });\n",
    "\n",
    "$$html$$ = myPlot.render();"
   ]
  },
  {
   "cell_type": "markdown",
   "metadata": {},
   "source": [
    "#### Example - scatter & bubble plotting"
   ]
  },
  {
   "cell_type": "code",
   "execution_count": null,
   "metadata": {
    "collapsed": false,
    "scrolled": false
   },
   "outputs": [],
   "source": [
    "var groupBy = require('lodash/groupBy');\n",
    "var uniqBy = require('lodash/uniqBy');\n",
    "\n",
    "var raw_csv_string = fs.readFileSync(\"datasets/wine.data.csv\").toString();\n",
    "\n",
    "var CLASS_COL = 13;\n",
    "\n",
    "var dataset = parse(raw_csv_string, {auto_parse: true});\n",
    "var classes = uniqBy(dataset.map(d => d[CLASS_COL]), d => d);\n",
    "console.log(classes)"
   ]
  },
  {
   "cell_type": "markdown",
   "metadata": {},
   "source": [
    "#### 2D Scatter Plotting\n",
    "\n",
    "A 2d scatter plot with a seperate `trace` per class label"
   ]
  },
  {
   "cell_type": "code",
   "execution_count": null,
   "metadata": {
    "collapsed": false
   },
   "outputs": [],
   "source": [
    "var traces = classes.map(label => {\n",
    "    var data = dataset.filter(d => d[CLASS_COL] === label);\n",
    "    return {\n",
    "        x: data.map(d => d[0]).map(f => parseFloat(f)),\n",
    "        y: data.map(d => d[6]).map(f => parseFloat(f)),\n",
    "        mode: 'markers',\n",
    "        type: 'scatter',\n",
    "        name: `Class ${label}`\n",
    "    };\n",
    "});\n",
    "\n",
    "var layout = {\n",
    "    title: 'Wines',\n",
    "    xaxis: { title: 'Alcohol Content ABV'},\n",
    "    yaxis: { title: 'Flavinoids'},\n",
    "    height: 700\n",
    "};\n",
    "\n",
    "$$html$$ = Plot.createPlot(traces, layout).render()"
   ]
  },
  {
   "cell_type": "markdown",
   "metadata": {},
   "source": [
    "#### 3D Scatter Plotting"
   ]
  },
  {
   "cell_type": "code",
   "execution_count": null,
   "metadata": {
    "collapsed": false,
    "scrolled": false
   },
   "outputs": [],
   "source": [
    "var traces = classes.map(label => {\n",
    "    var data = dataset.filter(d => d[CLASS_COL] === label);\n",
    "    return {\n",
    "        x: data.map(d => d[0]).map(f => parseFloat(f)),\n",
    "        y: data.map(d => d[5]).map(f => parseFloat(f)),\n",
    "        z: data.map(d => d[6]).map(f => parseFloat(f)),        \n",
    "        mode: 'markers',\n",
    "        type: 'scatter3d',\n",
    "        name: `Class ${label}`,\n",
    "        marker: {\n",
    "            size: 12,\n",
    "            line: {\n",
    "                color: 'rgba(217, 217, 217, 0.14)',\n",
    "                width: 0.5},\n",
    "                opacity: 0.8\n",
    "            },\n",
    "        };\n",
    "    });\n",
    "\n",
    "var layout = {\n",
    "    width: 1000,\n",
    "    height: 1000,\n",
    "    title: 'Wines',\n",
    "    xaxis: { title: 'Alcohol Content ABV'},\n",
    "    yaxis: { title: 'Flavinoids'},\n",
    "    zaxis: { title: 'Total Phenols'},\n",
    "};\n",
    "\n",
    "$$html$$ = Plot.createPlot(traces, layout).render()"
   ]
  },
  {
   "cell_type": "markdown",
   "metadata": {},
   "source": [
    "#### Bubble Charts"
   ]
  },
  {
   "cell_type": "code",
   "execution_count": null,
   "metadata": {
    "collapsed": false
   },
   "outputs": [],
   "source": [
    "var traces = classes.map(label => {\n",
    "    var data = dataset.filter(d => d[CLASS_COL] === label);\n",
    "    return {\n",
    "        x: data.map(d => d[0]).map(f => parseFloat(f)),\n",
    "        y: data.map(d => d[6]).map(f => parseFloat(f)),\n",
    "        mode: 'markers',\n",
    "        marker: {\n",
    "            size: data.map(d => d[10]).map(f => parseFloat(f)),\n",
    "            sizeref: 0.2\n",
    "        },\n",
    "        type: 'scatter',\n",
    "        name: `Class ${label}`\n",
    "    };\n",
    "});\n",
    "\n",
    "var layout = {\n",
    "    title: 'Wines (Bubble Size = Color Intensity)',\n",
    "    xaxis: { title: 'Alcohol Content ABV'},\n",
    "    yaxis: { title: 'Flavinoids'},\n",
    "    height: 700\n",
    "};\n",
    "\n",
    "$$html$$ = Plot.createPlot(traces, layout).render()"
   ]
  },
  {
   "cell_type": "code",
   "execution_count": null,
   "metadata": {
    "collapsed": false
   },
   "outputs": [],
   "source": [
    "var classColors = ['rgb(93, 164, 214)', 'rgb(255, 144, 14)',  'rgb(44, 160, 101)', 'rgb(255, 65, 54)'];\n",
    "\n",
    "var singleTrace = {\n",
    "    x: dataset.map(d => d[0]).map(f => parseFloat(f)),\n",
    "    y: dataset.map(d => d[6]).map(f => parseFloat(f)),\n",
    "    mode: 'markers',\n",
    "    marker: {\n",
    "        color: dataset.map(d => d[CLASS_COL]).map(f => classColors[parseInt(f)]),\n",
    "        size: dataset.map(d => d[9]).map(f => parseFloat(f)),\n",
    "        sizeref: 0.2\n",
    "    },\n",
    "    type: 'scatter'\n",
    "};\n",
    "\n",
    "var layout = {\n",
    "    title: 'Wines (Bubble Size = Color Intensity)',\n",
    "    xaxis: { title: 'Alcohol Content ABV'},\n",
    "    yaxis: { title: 'Flavinoids'},\n",
    "    height: 700\n",
    "};\n",
    "\n",
    "$$html$$ = Plot.createPlot([singleTrace], layout).render()"
   ]
  },
  {
   "cell_type": "markdown",
   "metadata": {},
   "source": [
    "### 2D Heatmaps"
   ]
  },
  {
   "cell_type": "code",
   "execution_count": null,
   "metadata": {
    "collapsed": false
   },
   "outputs": [],
   "source": [
    "var X = [];\n",
    "var step = 0.01;\n",
    "\n",
    "// build a 2d array of coordinates\n",
    "for (var i = -1; i <= 1; i += step) {\n",
    "    var x = [];\n",
    "    for (var j = -1; j <= 1; j += step) {\n",
    "        x.push([i, j])\n",
    "    }\n",
    "    X.push(x)\n",
    "}\n",
    "\n",
    "// compute the \"heat\" data\n",
    "var H = X.map(col => {\n",
    "    return col.map(x => {\n",
    "        const r = x.reduce((a,xi) => a + xi*xi, 0);\n",
    "        var F = 3;\n",
    "        var A = Math.cos(Math.PI*r/4);\n",
    "        return A*Math.cos(2*Math.PI*F*r);\n",
    "    })\n",
    "});\n",
    "\n",
    "var data = {\n",
    "    z: H,\n",
    "    type: \"heatmap\"\n",
    "}\n",
    "\n",
    "var layout = {\n",
    "    title: \"damped circular wavefront\",\n",
    "    width: 700,\n",
    "    height: 700\n",
    "}\n",
    "\n",
    "$$html$$ = Plot.createPlot([data], layout).render()"
   ]
  },
  {
   "cell_type": "markdown",
   "metadata": {},
   "source": [
    "### 2D Surface Plots\n",
    "\n",
    "Note this relies on the 2D Heatmap example from the cell above, make sure its been run"
   ]
  },
  {
   "cell_type": "code",
   "execution_count": null,
   "metadata": {
    "collapsed": false
   },
   "outputs": [],
   "source": [
    "$$html$$ = Plot.createPlot([{ // data\n",
    "    z: H,\n",
    "    type: \"surface\"\n",
    "}], { // layout\n",
    "    title: \"damped circular wavefront\",\n",
    "    width: 700,\n",
    "    height: 700\n",
    "}).render()"
   ]
  },
  {
   "cell_type": "code",
   "execution_count": null,
   "metadata": {
    "collapsed": true
   },
   "outputs": [],
   "source": []
  },
  {
   "cell_type": "code",
   "execution_count": null,
   "metadata": {
    "collapsed": false
   },
   "outputs": [],
   "source": [
    "import uniq from 'lodash/uniq';\n",
    "\n",
    "function unpack(data, key) { return data.map(row => row[key]) } \n",
    "\n",
    "var raw_csv_string = fs.readFileSync(\"datasets/who_life_expectancy.csv\").toString();\n",
    "\n",
    "var dataset = parse(raw_csv_string);\n",
    "var data = dataset.slice(1);\n",
    "var regions = uniq(data.map(r => r[0]))\n",
    "console.log(regions)\n",
    "\n",
    "var traces = regions.map( region => ({\n",
    "    x: data.filter(d => d[0] === region).map(r => r[1]).map(x => parseInt(x)),\n",
    "    y: data.filter(d => d[0] === region).map(r => r[2]).map(parseFloat),\n",
    "    mode: 'markers',\n",
    "    type: 'scatter',\n",
    "    name: region\n",
    "}));\n",
    "\n",
    "$$html$$ = Plot.createPlot(traces, {title: 'Life expectancy'}).render()"
   ]
  },
  {
   "cell_type": "code",
   "execution_count": null,
   "metadata": {
    "collapsed": true
   },
   "outputs": [],
   "source": []
  },
  {
   "cell_type": "code",
   "execution_count": null,
   "metadata": {
    "collapsed": true
   },
   "outputs": [],
   "source": []
  }
 ],
 "metadata": {
  "anaconda-cloud": {},
  "kernelspec": {
   "display_name": "jp-Babel (Node.js)",
   "language": "babel",
   "name": "babel"
  },
  "language_info": {
   "file_extension": ".js",
   "mimetype": "application/javascript",
   "name": "javascript",
   "version": "8.5.0"
  }
 },
 "nbformat": 4,
 "nbformat_minor": 2
}
