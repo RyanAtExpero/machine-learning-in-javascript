{
 "cells": [
  {
   "cell_type": "code",
   "execution_count": null,
   "metadata": {
    "collapsed": false
   },
   "outputs": [],
   "source": [
    "// boring imports\n",
    "var SVM = require('ml-svm');\n",
    "var {loadLabelledWine} = require('./utils');"
   ]
  },
  {
   "cell_type": "markdown",
   "metadata": {
    "collapsed": true
   },
   "source": [
    "# Cross Validation\n",
    "\n",
    "In machine learning Cross Validation is a technique / practice where we reserve a percentage of our training dataset in order to test the performance of our model.\n",
    "\n",
    "e.g. you might have a 80/20 split using only 80% of data for training and retaining 20% to test. \n",
    "\n",
    "But how to decide what to retain?\n",
    "\n"
   ]
  },
  {
   "cell_type": "markdown",
   "metadata": {},
   "source": [
    "## K Fold Validation\n",
    "\n",
    "We can increase the reliablility of our metrics and still evaluate performance across the whole training dataset by using k-fold cross validation.\n",
    "\n",
    "Essentially, we will do cross validation K times *drawing* a different cross validation set each time from the training data.\n",
    "\n",
    "Luckily we still have a library to help, here are the [docs](https://mljs.github.io/cross-validation/)"
   ]
  },
  {
   "cell_type": "code",
   "execution_count": null,
   "metadata": {
    "collapsed": false
   },
   "outputs": [],
   "source": [
    "var crossValidation = require('ml-cross-validation');\n",
    "var SVM = require('ml-svm');"
   ]
  },
  {
   "cell_type": "code",
   "execution_count": null,
   "metadata": {
    "collapsed": false
   },
   "outputs": [],
   "source": [
    "var {features, dataset} = loadLabelledWine({verbose: true});\n",
    "\n",
    "var inputs = dataset.map(d => d.slice(0,13))\n",
    "var labels = dataset.map(d => d[13]-2) // remember the domain mapping"
   ]
  },
  {
   "cell_type": "markdown",
   "metadata": {},
   "source": [
    "The module creates a confusion matri for us whih we can query for metrics"
   ]
  },
  {
   "cell_type": "code",
   "execution_count": null,
   "metadata": {
    "collapsed": false
   },
   "outputs": [],
   "source": [
    "var options = {\n",
    "  C: 1,  // Regularisation Parameter\n",
    "  tol: 10e-4,  // numerical tolerance\n",
    "  maxPasses: 10,  // max number of times to iterate over alphas when no change\n",
    "  maxIterations: 10000,  // max number of iterations\n",
    "  kernel: 'linear', // kernel to use see full like in kernel docs\n",
    "  kernelOptions: {\n",
    "    sigma: 0.5  // sets the gaussian width\n",
    "  }\n",
    "};\n",
    "\n",
    "var confusionMatrix = crossValidation.kFold(SVM, inputs, labels, options, 2);"
   ]
  },
  {
   "cell_type": "code",
   "execution_count": null,
   "metadata": {
    "collapsed": false
   },
   "outputs": [],
   "source": [
    "var accuracy = confusionMatrix.getAccuracy();\n",
    "console.log(accuracy)"
   ]
  },
  {
   "cell_type": "markdown",
   "metadata": {},
   "source": [
    "We should look at average f1 scores over classes too"
   ]
  },
  {
   "cell_type": "code",
   "execution_count": null,
   "metadata": {
    "collapsed": true
   },
   "outputs": [],
   "source": []
  }
 ],
 "metadata": {
  "anaconda-cloud": {},
  "kernelspec": {
   "display_name": "jp-Babel (Node.js)",
   "language": "babel",
   "name": "babel"
  },
  "language_info": {
   "file_extension": ".js",
   "mimetype": "application/javascript",
   "name": "javascript",
   "version": "8.5.0"
  }
 },
 "nbformat": 4,
 "nbformat_minor": 2
}
