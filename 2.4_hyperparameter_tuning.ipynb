{
 "cells": [
  {
   "cell_type": "code",
   "execution_count": null,
   "metadata": {
    "collapsed": false
   },
   "outputs": [],
   "source": [
    "// boring imports\n",
    "var {loadUnlabelledWine} = require('./utils')"
   ]
  },
  {
   "cell_type": "markdown",
   "metadata": {
    "collapsed": true
   },
   "source": [
    "# Hyperparameter Tuning\n",
    "\n",
    "### Hyperparameters\n",
    "\n",
    "Machine learning techniques learn their primary parameters, weights in a model or neural network for example.\n",
    "\n",
    "**Hyperparameters** are the parameters that we pass in from the outside and have control over.\n",
    "\n",
    "Tuning is when we optimise them.\n",
    "\n",
    "\n",
    "### Determining K\n",
    "\n",
    "One draw back with k-means is that you need to know how many clusters you have. One way of tackling this is to run kmeans multiple times and score how it has done.\n",
    "\n",
    "\n",
    "The [Akaike information criterion](https://en.wikipedia.org/wiki/Akaike_information_criterion) or [Bayesian Information Criterion](https://en.wikipedia.org/wiki/Bayesian_information_criterion) are absolutely the measures to use here. \n",
    "\n"
   ]
  },
  {
   "cell_type": "markdown",
   "metadata": {
    "collapsed": true
   },
   "source": [
    "![kemans finding k using AIC](images/kmeans_hyper.png)\n",
    "\n"
   ]
  },
  {
   "cell_type": "code",
   "execution_count": null,
   "metadata": {
    "collapsed": true
   },
   "outputs": [],
   "source": [
    "var ALCOHOL = 0;\n",
    "var ODxxx = 11;\n",
    "\n",
    "var classes = [\n",
    "    [12, 3.1],\n",
    "    [13.75, 3.1],\n",
    "    [13, 1.75]\n",
    "];"
   ]
  },
  {
   "cell_type": "code",
   "execution_count": null,
   "metadata": {
    "collapsed": false
   },
   "outputs": [],
   "source": [
    "var {features, dataset} = loadUnlabelledWine();\n",
    "\n",
    "// transpos  the dataset\n",
    "var datasetT = dataset[0].map((col,i) => dataset.map(row => row[i]))\n",
    "\n",
    "var minima = datasetT.map(row => row.reduce((a,x) => Math.min(a,x), 0));\n",
    "console.log(minima)\n",
    "\n",
    "var maxima = datasetT.map(row => row.reduce((a,x) => Math.max(a,x), 0));\n",
    "console.log(maxima)\n",
    "\n",
    "var datasetN = dataset.map(row => row.map((v, ci) => v / maxima[ci]))\n",
    "\n",
    "// next normalise our classes\n",
    "var maxima2 = [maxima[ALCOHOL], maxima[ODxxx]];\n",
    "\n",
    "var classesN = classes.map(c => c.map((v,i) => v / maxima2[i]))\n",
    "console.log(classesN)"
   ]
  },
  {
   "cell_type": "code",
   "execution_count": null,
   "metadata": {
    "collapsed": true
   },
   "outputs": [],
   "source": [
    "function rSquares(inputs, centroids) {\n",
    "    var num_classes = centroids.length;\n",
    "    var num_points = inputs.length;\n",
    "\n",
    "    return centroids.reduce((a,c) => {\n",
    "        return a + inputs.slice(0,10).reduce((b, xn) => {\n",
    "            return b + Math.sqrt(xn.map((x,i) => {\n",
    "                var dist = Math.pow(x - c[i], 2); \n",
    "                return Math.pow(x - c[i], 2);\n",
    "            }).reduce((a,x) => a+x, 0));\n",
    "        },0)\n",
    "    }, 0) / (num_classes*num_points);\n",
    "}"
   ]
  },
  {
   "cell_type": "code",
   "execution_count": null,
   "metadata": {
    "collapsed": false
   },
   "outputs": [],
   "source": [
    "var X = dataset.map(d => [d[ALCOHOL], d[ODxxx]])\n",
    "\n",
    "console.log(\"RSQ Score\", rSquares(X, classesN))"
   ]
  },
  {
   "cell_type": "code",
   "execution_count": null,
   "metadata": {
    "collapsed": true
   },
   "outputs": [],
   "source": []
  },
  {
   "cell_type": "code",
   "execution_count": null,
   "metadata": {
    "collapsed": true
   },
   "outputs": [],
   "source": []
  },
  {
   "cell_type": "code",
   "execution_count": null,
   "metadata": {
    "collapsed": true
   },
   "outputs": [],
   "source": []
  }
 ],
 "metadata": {
  "anaconda-cloud": {},
  "kernelspec": {
   "display_name": "jp-Babel (Node.js)",
   "language": "babel",
   "name": "babel"
  },
  "language_info": {
   "file_extension": ".js",
   "mimetype": "application/javascript",
   "name": "javascript",
   "version": "8.5.0"
  }
 },
 "nbformat": 4,
 "nbformat_minor": 2
}
