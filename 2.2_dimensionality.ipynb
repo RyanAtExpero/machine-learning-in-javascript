{
 "cells": [
  {
   "cell_type": "markdown",
   "metadata": {},
   "source": [
    "# Dimensionality\n",
    "\n",
    "We have a 13-dimensional space available and so far we've been using 2. So we have much more information available, can we use this to improve our estimate\n",
    "\n",
    "\n",
    "let's apply kmeans again this time using the whole suite of attributes. what does it do to our accuracy?\n",
    "\n",
    "\n",
    "## KMeans in $R^{13}$\n",
    "\n",
    " 1. Load the labelled wine dataset\n",
    " 1. Run kmeans over the full set of 13 attribtes vector but *not* including the last column of class labels\n",
    " 1. Build a confusion matrix and measure:\n",
    "     1. accuracy\n",
    "     1. f1-score for each of our three classes\n",
    "     1. average f1 score\n",
    "     \n",
    "     \n",
    " (Steve TODO: code up a simple majority class assignment function to help with initialisation problems)\n"
   ]
  },
  {
   "cell_type": "code",
   "execution_count": 1,
   "metadata": {
    "collapsed": false
   },
   "outputs": [
    {
     "data": {
      "text/plain": [
       "'use strict'"
      ]
     },
     "execution_count": 1,
     "metadata": {},
     "output_type": "execute_result"
    }
   ],
   "source": [
    "// Load data"
   ]
  },
  {
   "cell_type": "code",
   "execution_count": 2,
   "metadata": {
    "collapsed": false
   },
   "outputs": [
    {
     "data": {
      "text/plain": [
       "'use strict'"
      ]
     },
     "execution_count": 2,
     "metadata": {},
     "output_type": "execute_result"
    }
   ],
   "source": [
    "// Run kmeans"
   ]
  },
  {
   "cell_type": "code",
   "execution_count": 3,
   "metadata": {
    "collapsed": false
   },
   "outputs": [
    {
     "data": {
      "text/plain": [
       "'use strict'"
      ]
     },
     "execution_count": 3,
     "metadata": {},
     "output_type": "execute_result"
    }
   ],
   "source": [
    "// measure accuracy"
   ]
  },
  {
   "cell_type": "markdown",
   "metadata": {},
   "source": [
    "#### Discussion\n",
    "\n",
    " - Did our accuracy improve? \n",
    " - By how much?\n",
    " - Is this good enough or do we expect more?\n",
    " - How many iterations did we needfor convergence or did we hit MAX_ITERATIONS before convergence?\n",
    " - How long did it take to run?"
   ]
  },
  {
   "cell_type": "markdown",
   "metadata": {},
   "source": [
    "### Kmeans in $R^x for 2 < x < 13$\n",
    "\n",
    "So increasing our dimensionality can improve accuracy but how much additional accuracy do we get as the input space increase? and is there a `knee point` that is, after a certain number of dimensions does our accuracy worsen.\n",
    "\n",
    "Let's bundle up our keman code from above and run it in a loop. Starting with N=2 for each run of the loop let's increase the dimensionality of the inut vectors up to would maximum of 13.\n",
    "\n",
    "To keep things simple, let's just add in features in the order they appear in our feature vector, although obvious *which* feature are included in the\n",
    "\n",
    "Again for simplicity's sake, let's just calculate total accuracy each time round the loop and plot that in a simple line chart.\n",
    "\n",
    "#### Todo\n",
    "\n",
    " 1. loop over $n$ for $2 =< n =< 13$ and\n",
    "     1. extract an input vector set from the first $n$ features in the `dataset`\n",
    "     1. run kmeans\n",
    "     1. build confusion matrix\n",
    "     1. measure accuracy\n",
    " 1. Plot accuracy vs $n$"
   ]
  },
  {
   "cell_type": "code",
   "execution_count": null,
   "metadata": {
    "collapsed": true
   },
   "outputs": [],
   "source": []
  },
  {
   "cell_type": "code",
   "execution_count": null,
   "metadata": {
    "collapsed": true
   },
   "outputs": [],
   "source": []
  },
  {
   "cell_type": "code",
   "execution_count": null,
   "metadata": {
    "collapsed": true
   },
   "outputs": [],
   "source": []
  },
  {
   "cell_type": "code",
   "execution_count": null,
   "metadata": {
    "collapsed": true
   },
   "outputs": [],
   "source": [
    "// here is some plotting code\n",
    "var x = require('lodash/range');\n",
    "\n",
    "var trace = {\n",
    "    x,\n",
    "    y: myAccuracyResults // add your array of accuracies here,\n",
    "    type: 'line'\n",
    "}\n",
    "\n",
    "var layout = {\n",
    "    xaxis: { title: \"dimensionality\" },\n",
    "    yaxis: { title: \"accuracy\" }\n",
    "};\n",
    "\n",
    "$$html$$ = Plot.createPlot([trace], layout).render();\n"
   ]
  },
  {
   "cell_type": "markdown",
   "metadata": {},
   "source": [
    "#### Discussion\n",
    "\n",
    " - are the results what you expected?\n",
    " - what can you say about the cuirve?\n",
    " - what would you expect to happen if you randomised the selection of $n$ features from the total set of 13?"
   ]
  },
  {
   "cell_type": "code",
   "execution_count": null,
   "metadata": {
    "collapsed": true
   },
   "outputs": [],
   "source": []
  }
 ],
 "metadata": {
  "anaconda-cloud": {},
  "kernelspec": {
   "display_name": "jp-Babel (Node.js)",
   "language": "babel",
   "name": "babel"
  },
  "language_info": {
   "file_extension": ".js",
   "mimetype": "application/javascript",
   "name": "javascript",
   "version": "8.5.0"
  }
 },
 "nbformat": 4,
 "nbformat_minor": 2
}
