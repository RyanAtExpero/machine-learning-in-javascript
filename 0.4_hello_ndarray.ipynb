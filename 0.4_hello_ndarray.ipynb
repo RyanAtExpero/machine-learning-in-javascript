{
 "cells": [
  {
   "cell_type": "markdown",
   "metadata": {},
   "source": [
    "# Hello ndarray\n",
    "\n",
    "This is code implementing the eulidean distance relative to a fixed point using th `ndarray` library. This library is very similar to `matlab` and python's `numpy` but is very different to how we might structure things in native javascript."
   ]
  },
  {
   "cell_type": "code",
   "execution_count": 11,
   "metadata": {
    "collapsed": false
   },
   "outputs": [
    {
     "ename": "TypeError",
     "evalue": "Cannot read property 'length' of undefined",
     "output_type": "error",
     "traceback": [
      "undefined:6",
      "if (!(array0.shape.length===array1.shape.length+0)) throw new Error('cwise: Arrays do not all have the same dimensionality!')",
      "                                        ^",
      "",
      "TypeError: Cannot read property 'length' of undefined",
      "    at subs_cwise_thunk (eval at createThunk (/Users/stevejpurves/dev/expero/conference/machine-learning-in-javascript/node_modules/cwise-compiler/lib/thunk.js:82:15), <anonymous>:6:41)",
      "    at Object.subs_ndarrayops [as subs] (eval at makeOp (/Users/stevejpurves/dev/expero/conference/machine-learning-in-javascript/node_modules/ndarray-ops/ndarray-ops.js:48:17), <anonymous>:3:44)",
      "    at evalmachine.<anonymous>:18:14",
      "    at ContextifyScript.Script.runInThisContext (vm.js:44:33)",
      "    at Object.runInThisContext (vm.js:116:38)",
      "    at run ([eval]:617:19)",
      "    at onRunRequest ([eval]:388:22)",
      "    at onMessage ([eval]:356:17)",
      "    at emitTwo (events.js:125:13)",
      "    at process.emit (events.js:213:7)"
     ]
    }
   ],
   "source": [
    "// use the ndarray tools to create a coordinate array that spans our space of interest\n",
    "var zeros = require('zeros');\n",
    "var fill = require('ndarray-fill');\n",
    "var linspace = require('ndarray-linspace');\n",
    "var unpack = require('ndarray-unpack');\n",
    "var ops = require('ndarray-ops');\n",
    "\n",
    "var A = [0.3, 0.3];\n",
    "\n",
    "var X = zeros([50, 50]);\n",
    "var Y = zeros([50, 50]);\n",
    "\n",
    "linspace(X, 0, 1)\n",
    "linspace(Y, 0, 1, {axis: 1})\n",
    "\n",
    "var dx = ops.subs(X, A[0]);\n",
    "// var DX = ops.pow(ops.subs(X, A[0]), 2);\n",
    "// var DY = ops.pow(ops.subs(Y, A[1]), 2);\n",
    "// var D = ops.pow(ops.add(DX, DY), 0.5)\n",
    "\n",
    "var Plot = require('plotly-notebook-js');\n",
    "\n",
    "var data = {\n",
    "    z: unpack(Y),\n",
    "    type: \"heatmap\"\n",
    "}\n",
    "\n",
    "var layout = {\n",
    "    width: 500,\n",
    "    height: 500\n",
    "}\n",
    "\n",
    "$$html$$ = Plot.createPlot([data], layout).render()\n"
   ]
  },
  {
   "cell_type": "code",
   "execution_count": null,
   "metadata": {
    "collapsed": true
   },
   "outputs": [],
   "source": []
  }
 ],
 "metadata": {
  "anaconda-cloud": {},
  "kernelspec": {
   "display_name": "jp-Babel (Node.js)",
   "language": "babel",
   "name": "babel"
  },
  "language_info": {
   "file_extension": ".js",
   "mimetype": "application/javascript",
   "name": "javascript",
   "version": "8.5.0"
  }
 },
 "nbformat": 4,
 "nbformat_minor": 2
}
