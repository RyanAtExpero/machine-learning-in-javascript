{
 "cells": [
  {
   "cell_type": "markdown",
   "metadata": {},
   "source": [
    "#### Goals\n",
    "\n",
    " - load a dataset\n",
    " - look for distributions\n",
    " - explore the data alone different dimensions"
   ]
  },
  {
   "cell_type": "markdown",
   "metadata": {},
   "source": [
    "## Load the Wine Dataset - (no labels)\n",
    "\n"
   ]
  },
  {
   "cell_type": "code",
   "execution_count": 1,
   "metadata": {
    "collapsed": false
   },
   "outputs": [
    {
     "data": {
      "text/plain": [
       "'use strict'"
      ]
     },
     "execution_count": 1,
     "metadata": {},
     "output_type": "execute_result"
    }
   ],
   "source": [
    "var fs = require(\"fs\");\n",
    "var parse = require('csv-parse/lib/sync');\n",
    "var table = require('text-table');\n",
    "var Plot = require('plotly-notebook-js');\n",
    "var groupBy = require('lodash/groupBy');\n",
    "var keys = require('lodash/keys');"
   ]
  },
  {
   "cell_type": "code",
   "execution_count": null,
   "metadata": {
    "collapsed": true
   },
   "outputs": [],
   "source": []
  },
  {
   "cell_type": "code",
   "execution_count": 2,
   "metadata": {
    "collapsed": false
   },
   "outputs": [
    {
     "name": "stdout",
     "output_type": "stream",
     "text": [
      "our dataset has 178 rows and  13 columns\n"
     ]
    }
   ],
   "source": [
    "var raw_csv_string = fs.readFileSync(\"datasets/wine.data.unlabelled.csv\").toString();\n",
    "var dataset = parse(raw_csv_string);\n",
    "console.log(\"our dataset has\", dataset.length, \"rows and \", dataset[0].length, \"columns\")"
   ]
  },
  {
   "cell_type": "markdown",
   "metadata": {},
   "source": [
    "In other words we have a dataset cointaining 178 feature vectors, each made up of 13 features. Each feature vector corresponds to a particular wine.\n",
    "\n",
    "So we have a 13-dimensional data space that we could potentially do our analysis in. That's $R^{13}$!"
   ]
  },
  {
   "cell_type": "code",
   "execution_count": 3,
   "metadata": {
    "collapsed": false
   },
   "outputs": [
    {
     "name": "stdout",
     "output_type": "stream",
     "text": [
      "Alcohol | Malic Acid | Ash | Alcalinity of ash | Magnesium | Total phenols | Flavanoids | Nonflavanoid phenols | Proanthocyanins | Color intensity | Hue | OD280/OD315 of diluted wines | Proline\n",
      "---------------------------\n",
      "14.23 | 1.71 | 2.43 | 15.6 | 127 | 2.8  | 3.06 | 0.28 | 2.29 | 5.64 | 1.04 | 3.92 | 1065\n",
      " 13.2 | 1.78 | 2.14 | 11.2 | 100 | 2.65 | 2.76 | 0.26 | 1.28 | 4.38 | 1.05 | 3.4  | 1050\n",
      "13.16 | 2.36 | 2.67 | 18.6 | 101 | 2.8  | 3.24 | 0.3  | 2.81 | 5.68 | 1.03 | 3.17 | 1185\n",
      "14.37 | 1.95 | 2.5  | 16.8 | 113 | 3.85 | 3.49 | 0.24 | 2.18 | 7.8  | 0.86 | 3.45 | 1480\n",
      "13.24 | 2.59 | 2.87 | 21   | 118 | 2.8  | 2.69 | 0.39 | 1.82 | 4.32 | 1.04 | 2.93 | 735\n"
     ]
    }
   ],
   "source": [
    "var features = [\n",
    "    'Alcohol',\n",
    "    'Malic Acid',\n",
    "    'Ash',\n",
    "    'Alcalinity of ash',\n",
    "    'Magnesium',\n",
    "    'Total phenols',\n",
    "    'Flavanoids',\n",
    "    'Nonflavanoid phenols',\n",
    "    'Proanthocyanins',\n",
    "    'Color intensity',\n",
    "    'Hue',\n",
    "    'OD280/OD315 of diluted wines',\n",
    "    'Proline'];\n",
    "\n",
    "var format = { align: [ 'c', 'c' ], hsep: ' | ' };\n",
    "\n",
    "var T = table([features], format);\n",
    "console.log(T)\n",
    "console.log(\"---------------------------\")\n",
    "var D = table(dataset.slice(0,5), format);\n",
    "console.log(D)"
   ]
  },
  {
   "cell_type": "markdown",
   "metadata": {},
   "source": [
    "Each of those feature is some measurement made on a wine. We have wine data from a number of different geographical regions.\n",
    "\n",
    "The point of this dataset is can we work out which wines are from teh same region? Can we even work out how many different regiosn we have wines from?\n",
    "\n",
    "Algorithms aside, how would you do that?"
   ]
  },
  {
   "cell_type": "markdown",
   "metadata": {},
   "source": [
    "## Lets plot some data\n",
    "\n",
    "### 1D\n",
    "\n",
    "We could plot a simple histogram of any dimension we choose. Can we determine the number of regions or assign any wine to a region from a single dimension?"
   ]
  },
  {
   "cell_type": "code",
   "execution_count": null,
   "metadata": {
    "collapsed": false
   },
   "outputs": [],
   "source": [
    "var decimals = 1;\n",
    "var factor = Math.pow(10,decimals);\n",
    "\n",
    "// select a feature\n",
    "var DIM = 0;\n",
    "// -------\n",
    "var groups = groupBy(dataset.map((row) => row[DIM]), v => Math.floor(factor*v)/factor);\n",
    "var values = keys(groups);\n",
    "var histogram = values.map(value => groups[value].length);\n",
    "\n",
    "var trace = { x: values.map(s => parseFloat(s)), y: histogram, type: 'bar', name: 'cosine'}\n",
    "var layout = { title: `Feature: ${features[DIM]}`, xaxis: { title: features[DIM] }, yaxis: { title: \"Value\" }};\n",
    "\n",
    "var myPlot = Plot.createPlot([trace], layout);\n",
    "\n",
    "$$html$$ = myPlot.render();"
   ]
  },
  {
   "cell_type": "markdown",
   "metadata": {},
   "source": [
    "### Move to 2D\n"
   ]
  },
  {
   "cell_type": "code",
   "execution_count": null,
   "metadata": {
    "collapsed": false
   },
   "outputs": [],
   "source": [
    "var X = 0;\n",
    "var Y = 11;\n",
    "\n",
    "var x = dataset.map(d => d[X]).map(f => parseFloat(f));\n",
    "var y = dataset.map(d => d[Y]).map(f => parseFloat(f));\n",
    "\n",
    "var singleTrace = { x, y, mode: 'markers', marker: { size: 5, }, type: 'scatter' };\n",
    "\n",
    "var layout = { xaxis: { title: features[X] }, yaxis: { title: features[Y] }, width: 500, height: 500 };\n",
    "\n",
    "$$html$$ = Plot.createPlot([singleTrace], layout).render()"
   ]
  },
  {
   "cell_type": "markdown",
   "metadata": {},
   "source": [
    "#### What about in 3D or 4D?"
   ]
  },
  {
   "cell_type": "code",
   "execution_count": null,
   "metadata": {
    "collapsed": false
   },
   "outputs": [],
   "source": [
    "var X = 0, Y = 11, COLOR = 6, SIZE = 1;\n",
    "\n",
    "var x = dataset.map(d => d[X]).map(f => parseFloat(f));\n",
    "var y = dataset.map(d => d[Y]).map(f => parseFloat(f));\n",
    "var color = dataset.map(d => d[COLOR]).map(f => parseFloat(f));\n",
    "var size = 10; //dataset.map(d => d[SIZE]).map(f => parseFloat(f));\n",
    "var singleTrace = { x, y, mode: 'markers', marker: { color, size, sizeref: 0.2 }, type: 'scatter' };\n",
    "var layout = { title: `Size ${features[SIZE]} | Color: ${features[COLOR]}`, \n",
    "  xaxis: { title: features[X] }, yaxis: { title: features[Y] }, width: 700, height: 700 };\n",
    "\n",
    "$$html$$ = Plot.createPlot([singleTrace], layout).render()"
   ]
  }
 ],
 "metadata": {
  "anaconda-cloud": {},
  "kernelspec": {
   "display_name": "jp-Babel (Node.js)",
   "language": "babel",
   "name": "babel"
  },
  "language_info": {
   "file_extension": ".js",
   "mimetype": "application/javascript",
   "name": "javascript",
   "version": "8.5.0"
  }
 },
 "nbformat": 4,
 "nbformat_minor": 2
}
