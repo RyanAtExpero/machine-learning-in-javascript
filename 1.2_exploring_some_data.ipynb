{
 "cells": [
  {
   "cell_type": "markdown",
   "metadata": {},
   "source": [
    "#### Goals\n",
    "\n",
    " - load a dataset\n",
    " - look for distributions\n",
    " - explore the data alone different dimensions"
   ]
  },
  {
   "cell_type": "markdown",
   "metadata": {},
   "source": [
    "## Load the Wine Dataset - (no labels)\n",
    "\n"
   ]
  },
  {
   "cell_type": "code",
   "execution_count": null,
   "metadata": {
    "collapsed": false
   },
   "outputs": [],
   "source": [
    "var fs = require(\"fs\");\n",
    "var parse = require('csv-parse/lib/sync');\n",
    "var table = require('text-table');\n",
    "var Plot = require('plotly-notebook-js');\n",
    "var groupBy = require('lodash/groupBy');\n",
    "var keys = require('lodash/keys');"
   ]
  },
  {
   "cell_type": "code",
   "execution_count": null,
   "metadata": {
    "collapsed": true
   },
   "outputs": [],
   "source": []
  },
  {
   "cell_type": "code",
   "execution_count": null,
   "metadata": {
    "collapsed": false
   },
   "outputs": [],
   "source": [
    "var raw_csv_string = fs.readFileSync(\"datasets/wine.data.unlabelled.csv\").toString();\n",
    "var dataset = parse(raw_csv_string);\n",
    "console.log(\"our dataset has\", dataset.length, \"rows and \", dataset[0].length, \"columns\")"
   ]
  },
  {
   "cell_type": "markdown",
   "metadata": {},
   "source": [
    "In other words we have a dataset cointaining 178 feature vectors, each made up of 13 features. Each feature vector corresponds to a particular wine.\n",
    "\n",
    "So we have a 13-dimensional data space that we could potentially do our analysis in. That's $R^{13}$!"
   ]
  },
  {
   "cell_type": "code",
   "execution_count": null,
   "metadata": {
    "collapsed": false
   },
   "outputs": [],
   "source": [
    "var features = [\n",
    "    'Alcohol',\n",
    "    'Malic Acid',\n",
    "    'Ash',\n",
    "    'Alcalinity of ash',\n",
    "    'Magnesium',\n",
    "    'Total phenols',\n",
    "    'Flavanoids',\n",
    "    'Nonflavanoid phenols',\n",
    "    'Proanthocyanins',\n",
    "    'Color intensity',\n",
    "    'Hue',\n",
    "    'OD280/OD315 of diluted wines',\n",
    "    'Proline'];\n",
    "\n",
    "var format = { align: [ 'c', 'c' ], hsep: ' | ' };\n",
    "\n",
    "var T = table([features], format);\n",
    "console.log(T)\n",
    "console.log(\"---------------------------\")\n",
    "var D = table(dataset.slice(0,5), format);\n",
    "console.log(D)"
   ]
  },
  {
   "cell_type": "markdown",
   "metadata": {},
   "source": [
    "Each of those feature is some measurement made on a wine. We have wine data from a number of different geographical regions.\n",
    "\n",
    "The point of this dataset is can we work out which wines are from teh same region? Can we even work out how many different regiosn we have wines from?\n",
    "\n",
    "Algorithms aside, how would you do that?"
   ]
  },
  {
   "cell_type": "markdown",
   "metadata": {},
   "source": [
    "## Lets plot some data\n",
    "\n",
    "### 1D\n",
    "\n",
    "We could plot a simple histogram of any dimension we choose. Can we determine the number of regions or assign any wine to a region from a single dimension?"
   ]
  },
  {
   "cell_type": "code",
   "execution_count": null,
   "metadata": {
    "collapsed": false
   },
   "outputs": [],
   "source": [
    "var decimals = 1;\n",
    "var factor = Math.pow(10,decimals);\n",
    "\n",
    "// select a feature\n",
    "var DIM = 0;\n",
    "// -------\n",
    "var groups = groupBy(dataset.map((row) => row[DIM]), v => Math.floor(factor*v)/factor);\n",
    "var values = keys(groups);\n",
    "var histogram = values.map(value => groups[value].length);\n",
    "\n",
    "var trace = { x: values.map(s => parseFloat(s)), y: histogram, type: 'bar', name: 'cosine'}\n",
    "var layout = { title: `Feature: ${features[DIM]}`, xaxis: { title: features[DIM] }, yaxis: { title: \"Value\" }};\n",
    "\n",
    "var myPlot = Plot.createPlot([trace], layout);\n",
    "\n",
    "$$html$$ = myPlot.render();"
   ]
  },
  {
   "cell_type": "markdown",
   "metadata": {},
   "source": [
    "### Move to 2D\n"
   ]
  },
  {
   "cell_type": "code",
   "execution_count": null,
   "metadata": {
    "collapsed": false
   },
   "outputs": [],
   "source": [
    "var X = 0;\n",
    "var Y = 11;\n",
    "\n",
    "var x = dataset.map(d => d[X]).map(f => parseFloat(f));\n",
    "var y = dataset.map(d => d[Y]).map(f => parseFloat(f));\n",
    "\n",
    "var singleTrace = { x, y, mode: 'markers', marker: { size: 5, }, type: 'scatter' };\n",
    "\n",
    "var layout = { xaxis: { title: features[X] }, yaxis: { title: features[Y] }, width: 500, height: 500 };\n",
    "\n",
    "$$html$$ = Plot.createPlot([singleTrace], layout).render()"
   ]
  },
  {
   "cell_type": "markdown",
   "metadata": {},
   "source": [
    "#### What about in 3D or 4D?"
   ]
  },
  {
   "cell_type": "code",
   "execution_count": null,
   "metadata": {
    "collapsed": false
   },
   "outputs": [],
   "source": [
    "var X = 0, Y = 11, COLOR = 6, SIZE = 1;\n",
    "\n",
    "var x = dataset.map(d => d[X]).map(f => parseFloat(f));\n",
    "var y = dataset.map(d => d[Y]).map(f => parseFloat(f));\n",
    "var color = dataset.map(d => d[COLOR]).map(f => parseFloat(f));\n",
    "var size = 10; //dataset.map(d => d[SIZE]).map(f => parseFloat(f));\n",
    "var singleTrace = { x, y, mode: 'markers', marker: { color, size, sizeref: 0.2 }, type: 'scatter' };\n",
    "var layout = { title: `Size ${features[SIZE]} | Color: ${features[COLOR]}`, \n",
    "  xaxis: { title: features[X] }, yaxis: { title: features[Y] }, width: 700, height: 700 };\n",
    "\n",
    "$$html$$ = Plot.createPlot([singleTrace], layout).render()"
   ]
  }
 ],
 "metadata": {
  "anaconda-cloud": {},
  "kernelspec": {
   "display_name": "jp-Babel (Node.js)",
   "language": "babel",
   "name": "babel"
  },
  "language_info": {
   "file_extension": ".js",
   "mimetype": "application/javascript",
   "name": "javascript",
   "version": "8.5.0"
  }
 },
 "nbformat": 4,
 "nbformat_minor": 2
}
