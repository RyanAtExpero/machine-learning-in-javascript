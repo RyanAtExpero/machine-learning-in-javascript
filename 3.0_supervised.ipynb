{
 "cells": [
  {
   "cell_type": "code",
   "execution_count": null,
   "metadata": {},
   "outputs": [],
   "source": [
    "// boring imports\n",
    "var Plot = require('plotly-notebook-js');\n",
    "var {loadLabelledWine} = require('./utils');\n",
    "\n",
    "// Added some utility functions for arrays\n",
    "// prep our input data structures\n",
    "Array.prototype.max = function() {\n",
    "  return Math.max.apply(null, this);\n",
    "};\n",
    "\n",
    "Array.prototype.min = function() {\n",
    "  return Math.min.apply(null, this);\n",
    "};"
   ]
  },
  {
   "cell_type": "markdown",
   "metadata": {},
   "source": [
    "# Supervised Learning\n"
   ]
  },
  {
   "cell_type": "markdown",
   "metadata": {
    "collapsed": true
   },
   "source": [
    "![Supervised learning](images/slide_supervised.png)"
   ]
  },
  {
   "cell_type": "markdown",
   "metadata": {},
   "source": [
    "### Techniques availble in mljs\n",
    "\n",
    " - KNN - K Nearest Neighbors\n",
    " - **SVM - Support Vector Machines**\n",
    " - Naive Bayes\n",
    " - Partial Least Squares [regression]\n",
    "\n"
   ]
  },
  {
   "cell_type": "code",
   "execution_count": null,
   "metadata": {
    "collapsed": true
   },
   "outputs": [],
   "source": []
  },
  {
   "cell_type": "code",
   "execution_count": null,
   "metadata": {},
   "outputs": [],
   "source": [
    "var {features, dataset} = loadLabelledWine({verbose: true});"
   ]
  },
  {
   "cell_type": "markdown",
   "metadata": {},
   "source": [
    "## Support Vector Machines\n"
   ]
  },
  {
   "cell_type": "markdown",
   "metadata": {},
   "source": [
    "##### SVM in libsvm-js\n",
    "\n",
    " - docs for the SVM module are [here](https://github.com/mljs/libsvm)\n",
    " - docs for the various kernel options are [here](https://github.com/mljs/libsvm#SVM.KERNEL_TYPES)\n"
   ]
  },
  {
   "cell_type": "code",
   "execution_count": null,
   "metadata": {},
   "outputs": [],
   "source": [
    "var SVM = require('libsvm-js/asm');\n",
    "\n",
    "var options = {\n",
    "    kernel: SVM.KERNEL_TYPES.RBF, // The type of kernel I want to use\n",
    "    type: SVM.SVM_TYPES.C_SVC,    // The type of SVM I want to run\n",
    "    gamma: 1,                     // RBF kernel gamma parameter\n",
    "    cost: 1                       // C_SVC cost parameter\n",
    "};\n",
    "\n",
    "var svm = new SVM(options);"
   ]
  },
  {
   "cell_type": "markdown",
   "metadata": {},
   "source": [
    "Next train the classifier, let's start with the original 2d feature vectors that we used in our first pass through kmeans.\n",
    "\n",
    "To do this, just call the `svm.train(inputs, labels)` with the input feature vectors and the true class labels."
   ]
  },
  {
   "cell_type": "code",
   "execution_count": null,
   "metadata": {},
   "outputs": [],
   "source": [
    "var inputs = dataset.map(d => [d[0], d[10]]);\n",
    "var labels = dataset.map(d => d[13]);\n",
    "\n",
    "svm.train(inputs, labels)\n",
    "\n",
    "console.log(labels.slice(50,70))\n",
    "console.log(svm.predict(inputs.slice(50,70)))"
   ]
  },
  {
   "cell_type": "markdown",
   "metadata": {},
   "source": [
    "#### Support Vectors"
   ]
  },
  {
   "cell_type": "code",
   "execution_count": null,
   "metadata": {},
   "outputs": [],
   "source": [
    "console.log(svm.getSVIndices().slice(0,5))"
   ]
  },
  {
   "cell_type": "markdown",
   "metadata": {},
   "source": [
    "#### Measure Accuracy\n",
    "\n",
    "Use the same confusion matrix approach as earlier to compute accuracy and f1-scores"
   ]
  },
  {
   "cell_type": "code",
   "execution_count": null,
   "metadata": {},
   "outputs": [],
   "source": [
    "var ConfusionMatrix = require('ml-confusion-matrix');\n",
    "\n",
    "var actuals = labels;\n",
    "var predicted = svm.predict(inputs)\n",
    "\n",
    "var C = ConfusionMatrix.fromLabels(actuals, predicted)\n",
    "\n",
    "var M = C.getMatrix();\n",
    "var trace = { \n",
    "    x: [0,1,2],\n",
    "    y: [0,1,2],\n",
    "    z: M,\n",
    "    type: 'heatmap',\n",
    "    showscale: false,\n",
    "    colorscale:[[0, '#3D9970'], [100, '#001f3f']]\n",
    "};\n",
    "\n",
    "console.info(C.getAccuracy())\n",
    "var annotations = [];\n",
    "\n",
    "M.map((a,y) => {\n",
    "    a.map((b,x) => {\n",
    "        annotations.push(\n",
    "            {\n",
    "                x: x,\n",
    "                y: y,\n",
    "                text: M[y][x],\n",
    "                font: {\n",
    "                    family: 'Arial',\n",
    "                    size: 12,\n",
    "                    color: 'white'\n",
    "                  },\n",
    "                showarrow: false\n",
    "            }\n",
    "        )\n",
    "    })\n",
    "})\n",
    "\n",
    "var layout = { \n",
    "    xaxis: { title: \"predicted\", side: 'top' },\n",
    "    yaxis: { title: \"actuals\", nticks: 6, autosize: false, autorange: 'reversed' },\n",
    "    annotations,\n",
    "    width: 500, height: 500};\n",
    "\n",
    "var Plot = require('plotly-notebook-js');\n",
    "var table = require('text-table');\n",
    "\n",
    "$$html$$ = Plot.createPlot([trace], layout).render();"
   ]
  },
  {
   "cell_type": "markdown",
   "metadata": {},
   "source": [
    "#### Discussion\n",
    "\n",
    " - How does you accuracy compare with our unsupervised approaches?\n",
    " - Is this too good to be tru and should you be suspicous?\n",
    " - Can you think of how to get a better accuracy measurement?"
   ]
  },
  {
   "cell_type": "code",
   "execution_count": null,
   "metadata": {
    "collapsed": true
   },
   "outputs": [],
   "source": []
  },
  {
   "cell_type": "code",
   "execution_count": null,
   "metadata": {
    "collapsed": true
   },
   "outputs": [],
   "source": []
  }
 ],
 "metadata": {
  "anaconda-cloud": {},
  "kernelspec": {
   "display_name": "jp-Babel (Node.js)",
   "language": "babel",
   "name": "babel"
  },
  "language_info": {
   "file_extension": ".js",
   "mimetype": "application/javascript",
   "name": "javascript",
   "version": "8.2.1"
  }
 },
 "nbformat": 4,
 "nbformat_minor": 2
}
