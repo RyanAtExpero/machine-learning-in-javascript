{
 "cells": [
  {
   "cell_type": "code",
   "execution_count": null,
   "metadata": {
    "collapsed": false
   },
   "outputs": [],
   "source": [
    "// boring imports\n",
    "var Plot = require('plotly-notebook-js');\n",
    "var {loadLabelledWine} = require('./utils');"
   ]
  },
  {
   "cell_type": "markdown",
   "metadata": {},
   "source": [
    "# Supervised Learning\n"
   ]
  },
  {
   "cell_type": "markdown",
   "metadata": {
    "collapsed": true
   },
   "source": [
    "![Supervised learning](images/slide_supervised.png)"
   ]
  },
  {
   "cell_type": "markdown",
   "metadata": {},
   "source": [
    "### Techniques availble in mljs\n",
    "\n",
    " - KNN - K Nearest Neighbors\n",
    " - **SVM - Support Vector Machines**\n",
    " - Naive Bayes\n",
    " - Partial Least Squares [regression]\n",
    "\n"
   ]
  },
  {
   "cell_type": "code",
   "execution_count": null,
   "metadata": {
    "collapsed": true
   },
   "outputs": [],
   "source": []
  },
  {
   "cell_type": "code",
   "execution_count": null,
   "metadata": {
    "collapsed": true
   },
   "outputs": [],
   "source": []
  },
  {
   "cell_type": "code",
   "execution_count": null,
   "metadata": {
    "collapsed": true
   },
   "outputs": [],
   "source": []
  },
  {
   "cell_type": "code",
   "execution_count": null,
   "metadata": {
    "collapsed": false
   },
   "outputs": [],
   "source": [
    "var {features, dataset} = loadLabelledWine({verbose: true});"
   ]
  },
  {
   "cell_type": "markdown",
   "metadata": {},
   "source": [
    "## Support Vector Machines\n"
   ]
  },
  {
   "cell_type": "markdown",
   "metadata": {},
   "source": [
    "##### SVM in mljs\n",
    "\n",
    " - docs for the SVM module are [here](https://mljs.github.io/svm/)\n",
    " - docs for the various kernel options are [here](https://github.com/mljs/kernel)\n"
   ]
  },
  {
   "cell_type": "code",
   "execution_count": null,
   "metadata": {
    "collapsed": false
   },
   "outputs": [],
   "source": [
    "var SVM = require('ml-svm');\n",
    "\n",
    "var options = {\n",
    "  C: 1,  // Regularisation Parameter\n",
    "  tol: 10e-4,  // numerical tolerance\n",
    "  maxPasses: 10,  // max number of times to iterate over alphas when no change\n",
    "  maxIterations: 10000,  // max number of iterations\n",
    "  kernel: 'linear', // kernel to use see full like in kernel docs\n",
    "  kernelOptions: {\n",
    "    sigma: 0.5  // sets the gaussian width\n",
    "  }\n",
    "};\n",
    "\n",
    "var svm = new SVM(options);"
   ]
  },
  {
   "cell_type": "markdown",
   "metadata": {},
   "source": [
    "Next train the classifier, let's start with the original 2d feature vectors that we used in our first pass through kmeans.\n",
    "\n",
    "To do this, just call the `svm.train(inputs, labels)` with the input feature vectors and the true class labels."
   ]
  },
  {
   "cell_type": "code",
   "execution_count": null,
   "metadata": {
    "collapsed": false
   },
   "outputs": [],
   "source": [
    "// prep our input data structures\n",
    "var inputs = dataset.map(d => [d[0], d[11]]);\n",
    "var labels = dataset.map(d => d[13] - 2); // needs label domain of {-1,1} rather then our labels of [0,1,2]\n",
    "\n",
    "// train the model\n",
    "svm.train(inputs, labels)\n",
    "\n",
    "console.log(labels.slice(50,60))\n",
    "console.log(inputs.slice(50,60).map(i => svm.predict(i)))"
   ]
  },
  {
   "cell_type": "markdown",
   "metadata": {},
   "source": [
    "#### Margins"
   ]
  },
  {
   "cell_type": "code",
   "execution_count": null,
   "metadata": {
    "collapsed": false
   },
   "outputs": [],
   "source": [
    "console.log(svm.margin(inputs.slice(0,5)))"
   ]
  },
  {
   "cell_type": "markdown",
   "metadata": {},
   "source": [
    "#### Support Vectors"
   ]
  },
  {
   "cell_type": "code",
   "execution_count": null,
   "metadata": {
    "collapsed": false
   },
   "outputs": [],
   "source": [
    "console.log(svm.supportVectors().slice(0,5))"
   ]
  },
  {
   "cell_type": "markdown",
   "metadata": {},
   "source": [
    "#### Measure Accuracy\n",
    "\n",
    "Use the same confusion matrix approach as earlier to compute accuracy and f1-scores"
   ]
  },
  {
   "cell_type": "code",
   "execution_count": null,
   "metadata": {
    "collapsed": false
   },
   "outputs": [],
   "source": [
    "var ConfusionMatrix = require('ml-confusion-matrix');\n",
    "\n",
    "// finish this off"
   ]
  },
  {
   "cell_type": "markdown",
   "metadata": {},
   "source": [
    "#### Discussion\n",
    "\n",
    " - How does you accuracy compare with our unsupervised approaches?\n",
    " - Is this too good to be tru and should you be suspicous?\n",
    " - Can you think of how to get a better accuracy measurement?"
   ]
  },
  {
   "cell_type": "code",
   "execution_count": null,
   "metadata": {
    "collapsed": true
   },
   "outputs": [],
   "source": []
  }
 ],
 "metadata": {
  "anaconda-cloud": {},
  "kernelspec": {
   "display_name": "jp-Babel (Node.js)",
   "language": "babel",
   "name": "babel"
  },
  "language_info": {
   "file_extension": ".js",
   "mimetype": "application/javascript",
   "name": "javascript",
   "version": "8.5.0"
  }
 },
 "nbformat": 4,
 "nbformat_minor": 2
}
