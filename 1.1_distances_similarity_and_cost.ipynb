{
 "cells": [
  {
   "cell_type": "code",
   "execution_count": null,
   "metadata": {
    "collapsed": false
   },
   "outputs": [],
   "source": [
    "//boring imports\n",
    "var ml = require('ml-distance')"
   ]
  },
  {
   "cell_type": "markdown",
   "metadata": {},
   "source": [
    "# Distances\n",
    "\n",
    "In the last section we reviewed vectors and looked at their `inner products` a fundamental measure of similarity.\n",
    "\n",
    "Another important measure on vectors are distances, essentially the distane between two points in $R^N$. This seems straight forward to calculate in cartesian space. \n",
    "\n",
    "However, there are various definitons of distance, each are calculated differently and have different impact on the performance of an algorihm.\n"
   ]
  },
  {
   "cell_type": "markdown",
   "metadata": {},
   "source": [
    "#### First Up - Building a grid\n",
    "\n"
   ]
  },
  {
   "cell_type": "code",
   "execution_count": null,
   "metadata": {
    "collapsed": false
   },
   "outputs": [],
   "source": [
    "var X = [];\n",
    "var step = 0.01;\n",
    "\n",
    "// build a 2d array of coordinates\n",
    "for (var i = 0; i <= 1; i += step) {\n",
    "    var x = [];\n",
    "    for (var j = 0; j <= 1; j += step) {\n",
    "        x.push([i, j])\n",
    "    }\n",
    "    X.push(x)\n",
    "}"
   ]
  },
  {
   "cell_type": "markdown",
   "metadata": {},
   "source": [
    "#### Euclidean Distance\n",
    "\n",
    "Also known as the `L2 Distance`, this is well known distance between two vectors that we all learn in school.\n",
    "\n",
    "$$d_{a,b} = \\sqrt{\\sum_{i=0}^{N-1} (a_i - b_i)^2}$$\n",
    "\n",
    "An interesting way to visualise this distance measure is to hold one point constant, $A$ and vary the other over a range. This allows us to plot the distance function.\n",
    "\n",
    "This distance measure produces a smooth function."
   ]
  },
  {
   "cell_type": "code",
   "execution_count": null,
   "metadata": {
    "collapsed": false
   },
   "outputs": [],
   "source": [
    "var A = [0.5, 0.5]\n",
    "\n",
    "// compute the distance over our coordinate grid\n",
    "var D = X.map(col => {\n",
    "    return col.map(x => {\n",
    "        return euclideanDistance(x, A);\n",
    "    })\n",
    "});\n",
    "\n",
    "function euclideanDistance(a, b) {\n",
    "    var sum = a.reduce((acc, x, i) => {\n",
    "        return acc + Math.pow(a[i] - b[i], 2);\n",
    "    }, 0)\n",
    "    return Math.sqrt(sum);\n",
    "}\n",
    "\n",
    "\n",
    "// plot the resulting distance surface\n",
    "var Plot = require('plotly-notebook-js');\n",
    "\n",
    "var data = {\n",
    "    z: D,\n",
    "    type: \"surface\"\n",
    "}\n",
    "\n",
    "var layout = {\n",
    "    title: \"Euclidean distance 'surface' realtive to A[0.5, 0.5]\",\n",
    "    width: 700,\n",
    "    height: 700\n",
    "}\n",
    "\n",
    "$$html$$ = Plot.createPlot([data], layout).render()"
   ]
  },
  {
   "cell_type": "markdown",
   "metadata": {},
   "source": [
    "#### Manhattan Distance\n",
    "\n",
    "Also known as the `City Block`, `Taxicab` or `L1 Distance` uses the sum os absolute deviations in parallel to the L1 norm.\n",
    "\n",
    "\n",
    "$$d_{a,b} = \\sum_{i=0}^{N-1} \\vert a_i - b_i \\vert$$\n"
   ]
  },
  {
   "cell_type": "code",
   "execution_count": null,
   "metadata": {
    "collapsed": false
   },
   "outputs": [],
   "source": [
    "// compute the distance over our coordinate grid, reuse the coordinate array from above\n",
    "var D = X.map(col => {\n",
    "    return col.map(x => {\n",
    "        return manhattanDistance(x, A);\n",
    "    })\n",
    "});\n",
    "\n",
    "function manhattanDistance(a, b) {\n",
    "    var sum = a.reduce((acc, x, i) => {\n",
    "        return acc + Math.abs(a[i] - b[i]);\n",
    "    }, 0)\n",
    "    return Math.sqrt(sum);\n",
    "}\n",
    "\n",
    "\n",
    "// plot the resulting distance surface\n",
    "var Plot = require('plotly-notebook-js');\n",
    "\n",
    "var data = {\n",
    "    z: D,\n",
    "    type: \"surface\"\n",
    "}\n",
    "\n",
    "var layout = {\n",
    "    title: \"Manhattan distance 'surface' realtive to A[0.3, 0.3]\",\n",
    "    width: 700,\n",
    "    height: 700\n",
    "}\n",
    "\n",
    "$$html$$ = Plot.createPlot([data], layout).render()"
   ]
  },
  {
   "cell_type": "markdown",
   "metadata": {},
   "source": [
    "And there are lots more. Check out all of the options in `ml-distance` [docs](https://www.npmjs.com/package/ml-distance)\n",
    "\n",
    "\n",
    "So let's try plotting some out. Use the grid and plotting code above (makea copy of the cell if you like) to see what the error / distance / cost surfaces of some of these are. Interesting ones might be:\n",
    "\n",
    " - chebyshev\n",
    " - kullbackLeibler\n"
   ]
  },
  {
   "cell_type": "markdown",
   "metadata": {},
   "source": [
    "## Similarity\n",
    "\n",
    "There are also some Simularity measures at the bbottom of that list. \n",
    "\n",
    "\n",
    "Why do you think Similarities might be different from distances?\n",
    "\n",
    "Try some out!\n"
   ]
  },
  {
   "cell_type": "code",
   "execution_count": null,
   "metadata": {
    "collapsed": true
   },
   "outputs": [],
   "source": []
  },
  {
   "cell_type": "markdown",
   "metadata": {},
   "source": [
    "## Further Reading\n",
    "\n",
    " - [5 most popular similarity measures in python](http://dataaspirant.com/2015/04/11/five-most-popular-similarity-measures-implementation-in-python/)\n",
    " - [excellent cross validated stackexchange question](https://stats.stackexchange.com/questions/154879/a-list-of-cost-functions-used-in-neural-networks-alongside-applications)"
   ]
  },
  {
   "cell_type": "code",
   "execution_count": null,
   "metadata": {
    "collapsed": false
   },
   "outputs": [],
   "source": [
    "// note the distance library has a funny export structure\n",
    "console.log('ml.distsnce', Object.keys(ml.distance))\n",
    "console.log('ml.similarity', Object.keys(ml.distance))"
   ]
  },
  {
   "cell_type": "code",
   "execution_count": null,
   "metadata": {
    "collapsed": true
   },
   "outputs": [],
   "source": []
  }
 ],
 "metadata": {
  "anaconda-cloud": {},
  "kernelspec": {
   "display_name": "jp-Babel (Node.js)",
   "language": "babel",
   "name": "babel"
  },
  "language_info": {
   "file_extension": ".js",
   "mimetype": "application/javascript",
   "name": "javascript",
   "version": "8.5.0"
  }
 },
 "nbformat": 4,
 "nbformat_minor": 2
}
