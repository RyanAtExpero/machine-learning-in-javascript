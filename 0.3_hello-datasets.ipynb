{
 "cells": [
  {
   "cell_type": "markdown",
   "metadata": {
    "collapsed": true
   },
   "source": [
    "# Datasets Used"
   ]
  },
  {
   "cell_type": "markdown",
   "metadata": {},
   "source": [
    "## Wine\n",
    "\n",
    "A anonymised, labelled dataset of different wines in csv format. \n",
    "\n",
    "There are 13 attributes for each wine plus a class label (the first column)\n",
    "\n",
    " 0. Class Label\n",
    " 1. Alcohol\n",
    " 2. Malic acid\n",
    " 3. Ash\n",
    " 4. Alcalinity of ash  \n",
    " 5. Magnesium\n",
    " 6. Total phenols\n",
    " 7. Flavanoids\n",
    " 8. Nonflavanoid phenols\n",
    " 9. Proanthocyanins\n",
    " 10. Color intensity\n",
    " 11. Hue\n",
    " 12. OD280/OD315 of diluted wines\n",
    " 13. Proline   \n",
    "\n",
    "The datasaet is here: [datasets/wine.data.csv](datasets/wine.data.csv)\n",
    "The full description is [here](datasets/wine.names.txt)\n",
    "\n",
    "Acknowledgement - Lichman, M. (2013). [UCI Machine Learning Repository](http://archive.ics.uci.edu/ml). Irvine, CA: University of California, School of Information and Computer Science."
   ]
  },
  {
   "cell_type": "code",
   "execution_count": 42,
   "metadata": {
    "collapsed": false
   },
   "outputs": [
    {
     "data": {
      "text/html": [
       "\t|  11  |  12  |  13  |  0  |  1  |  2  |  3  |  4  |  5  |  6  |  7  |  8  |  9  |  10  |\n",
       "------------------------------------------------------------------------------------------\n",
       "0\t|  1.04  |  3.92  |  1065  |  1  |  14.23  |  1.71  |  2.43  |  15.6  |  127  |  2.8  |  3.06  |  .28  |  2.29  |  5.64  |\n",
       "1\t|  1.05  |  3.4  |  1050  |  1  |  13.2  |  1.78  |  2.14  |  11.2  |  100  |  2.65  |  2.76  |  .26  |  1.28  |  4.38  |\n",
       "2\t|  1.03  |  3.17  |  1185  |  1  |  13.16  |  2.36  |  2.67  |  18.6  |  101  |  2.8  |  3.24  |  .3  |  2.81  |  5.68  |\n"
      ]
     },
     "execution_count": 42,
     "metadata": {},
     "output_type": "execute_result"
    }
   ],
   "source": [
    "var fs = require(\"fs\");\n",
    "var parse = require('csv-parse/lib/sync');\n",
    "import {DataFrame} from 'pandas-js';\n",
    "\n",
    "var raw_csv_string = fs.readFileSync(\"datasets/wine.data.csv\").toString();\n",
    "\n",
    "var df = new DataFrame(parse(raw_csv_string));\n",
    "\n",
    "$$html$$ = `${df.head(3).toString()}`\n"
   ]
  },
  {
   "cell_type": "code",
   "execution_count": null,
   "metadata": {
    "collapsed": true
   },
   "outputs": [],
   "source": []
  },
  {
   "cell_type": "code",
   "execution_count": null,
   "metadata": {
    "collapsed": true
   },
   "outputs": [],
   "source": []
  },
  {
   "cell_type": "code",
   "execution_count": null,
   "metadata": {
    "collapsed": true
   },
   "outputs": [],
   "source": []
  },
  {
   "cell_type": "code",
   "execution_count": null,
   "metadata": {
    "collapsed": true
   },
   "outputs": [],
   "source": []
  }
 ],
 "metadata": {
  "anaconda-cloud": {},
  "kernelspec": {
   "display_name": "jp-Babel (Node.js)",
   "language": "babel",
   "name": "babel"
  },
  "language_info": {
   "file_extension": ".js",
   "mimetype": "application/javascript",
   "name": "javascript",
   "version": "8.5.0"
  }
 },
 "nbformat": 4,
 "nbformat_minor": 2
}
