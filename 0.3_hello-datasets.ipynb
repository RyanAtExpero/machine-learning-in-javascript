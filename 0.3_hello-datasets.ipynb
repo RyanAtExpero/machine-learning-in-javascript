{
 "cells": [
  {
   "cell_type": "markdown",
   "metadata": {
    "collapsed": true
   },
   "source": [
    "# Datasets Used"
   ]
  },
  {
   "cell_type": "markdown",
   "metadata": {},
   "source": [
    "## Wine\n",
    "\n",
    "A anonymised, labelled dataset of different wines in csv format. \n",
    "\n",
    "There are 13 attributes for each wine plus a class label (the first column)\n",
    "\n",
    " 0. Class Label\n",
    " 1. Alcohol\n",
    " 2. Malic acid\n",
    " 3. Ash\n",
    " 4. Alcalinity of ash  \n",
    " 5. Magnesium\n",
    " 6. Total phenols\n",
    " 7. Flavanoids\n",
    " 8. Nonflavanoid phenols\n",
    " 9. Proanthocyanins\n",
    " 10. Color intensity\n",
    " 11. Hue\n",
    " 12. OD280/OD315 of diluted wines\n",
    " 13. Proline   \n",
    "\n",
    "The datasaet is here: [datasets/wine.data.csv](datasets/wine.data.csv)\n",
    "The full description is [here](datasets/wine.names.txt)\n",
    "\n",
    "Acknowledgement - Lichman, M. (2013). [UCI Machine Learning Repository](http://archive.ics.uci.edu/ml). Irvine, CA: University of California, School of Information and Computer Science."
   ]
  },
  {
   "cell_type": "code",
   "execution_count": 15,
   "metadata": {
    "collapsed": false
   },
   "outputs": [
    {
     "name": "stdout",
     "output_type": "stream",
     "text": [
      "Class | Alcohol | Malic Acid | Ash | Alcalinity of ash | Magnesium | Total phenols | Flavanoids | Nonflavanoid phenols | Proanthocyanins | Color intensity | Hue | OD280/OD315 of diluted wines | Proline\n",
      "1 | 14.23 | 1.71 | 2.43 | 15.6 | 127 | 2.8  | 3.06 | .28 | 2.29 | 5.64 | 1.04 | 3.92 | 1065\n",
      "1 |  13.2 | 1.78 | 2.14 | 11.2 | 100 | 2.65 | 2.76 | .26 | 1.28 | 4.38 | 1.05 | 3.4  | 1050\n",
      "1 | 13.16 | 2.36 | 2.67 | 18.6 | 101 | 2.8  | 3.24 | .3  | 2.81 | 5.68 | 1.03 | 3.17 | 1185\n",
      "1 | 14.37 | 1.95 | 2.5  | 16.8 | 113 | 3.85 | 3.49 | .24 | 2.18 | 7.8  | .86  | 3.45 | 1480\n",
      "1 | 13.24 | 2.59 | 2.87 | 21   | 118 | 2.8  | 2.69 | .39 | 1.82 | 4.32 | 1.04 | 2.93 | 735\n"
     ]
    }
   ],
   "source": [
    "var fs = require(\"fs\");\n",
    "var parse = require('csv-parse/lib/sync');\n",
    "import table from 'text-table';\n",
    "\n",
    "var raw_csv_string = fs.readFileSync(\"datasets/wine.data.csv\").toString();\n",
    "\n",
    "var dataset = parse(raw_csv_string);\n",
    "\n",
    "var wineTitles = [\n",
    "    'Class',\n",
    "    'Alcohol',\n",
    "    'Malic Acid',\n",
    "    'Ash',\n",
    "    'Alcalinity of ash',\n",
    "    'Magnesium',\n",
    "    'Total phenols',\n",
    "    'Flavanoids',\n",
    "    'Nonflavanoid phenols',\n",
    "    'Proanthocyanins',\n",
    "    'Color intensity',\n",
    "    'Hue',\n",
    "    'OD280/OD315 of diluted wines',\n",
    "    'Proline'];\n",
    "\n",
    "var format = { align: [ 'c', 'c' ], hsep: ' | ' };\n",
    "\n",
    "var T = table([wineTitles], format);\n",
    "console.log(T)\n",
    "var D = table(dataset.slice(0,5), format);\n",
    "console.log(D)\n"
   ]
  },
  {
   "cell_type": "code",
   "execution_count": null,
   "metadata": {
    "collapsed": true
   },
   "outputs": [],
   "source": []
  },
  {
   "cell_type": "code",
   "execution_count": null,
   "metadata": {
    "collapsed": true
   },
   "outputs": [],
   "source": []
  },
  {
   "cell_type": "code",
   "execution_count": null,
   "metadata": {
    "collapsed": true
   },
   "outputs": [],
   "source": []
  },
  {
   "cell_type": "code",
   "execution_count": null,
   "metadata": {
    "collapsed": true
   },
   "outputs": [],
   "source": []
  }
 ],
 "metadata": {
  "anaconda-cloud": {},
  "kernelspec": {
   "display_name": "jp-Babel (Node.js)",
   "language": "babel",
   "name": "babel"
  },
  "language_info": {
   "file_extension": ".js",
   "mimetype": "application/javascript",
   "name": "javascript",
   "version": "8.5.0"
  }
 },
 "nbformat": 4,
 "nbformat_minor": 2
}
